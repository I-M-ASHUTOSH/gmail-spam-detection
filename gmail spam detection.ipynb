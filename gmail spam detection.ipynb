{
 "cells": [
  {
   "cell_type": "code",
   "execution_count": 6,
   "id": "05242cc0",
   "metadata": {},
   "outputs": [],
   "source": [
    "# SPAM DETECTION\n",
    "# WORK FLOW\n",
    "# Mail Data----> Data preprocessing---->train test split ----->Logistic Regression model\n",
    "# (logistic regression is best for binary classification)\n",
    "\n",
    " "
   ]
  },
  {
   "cell_type": "code",
   "execution_count": 28,
   "id": "c5f5412c",
   "metadata": {},
   "outputs": [],
   "source": [
    "import numpy as np\n",
    "import pandas as pd\n",
    "from sklearn.model_selection import train_test_split\n",
    "from sklearn.feature_extraction.text import TfidfVectorizer   #vectorizer is used to convert the text data to numerical values\n",
    "from sklearn.linear_model import LogisticRegression \n",
    "from sklearn.metrics import accuracy_score\n"
   ]
  },
  {
   "cell_type": "code",
   "execution_count": 58,
   "id": "daf1796e",
   "metadata": {},
   "outputs": [
    {
     "data": {
      "text/html": [
       "<div>\n",
       "<style scoped>\n",
       "    .dataframe tbody tr th:only-of-type {\n",
       "        vertical-align: middle;\n",
       "    }\n",
       "\n",
       "    .dataframe tbody tr th {\n",
       "        vertical-align: top;\n",
       "    }\n",
       "\n",
       "    .dataframe thead th {\n",
       "        text-align: right;\n",
       "    }\n",
       "</style>\n",
       "<table border=\"1\" class=\"dataframe\">\n",
       "  <thead>\n",
       "    <tr style=\"text-align: right;\">\n",
       "      <th></th>\n",
       "      <th>Category</th>\n",
       "      <th>Message</th>\n",
       "    </tr>\n",
       "  </thead>\n",
       "  <tbody>\n",
       "    <tr>\n",
       "      <th>0</th>\n",
       "      <td>ham</td>\n",
       "      <td>Go until jurong point, crazy.. Available only ...</td>\n",
       "    </tr>\n",
       "    <tr>\n",
       "      <th>1</th>\n",
       "      <td>ham</td>\n",
       "      <td>Ok lar... Joking wif u oni...</td>\n",
       "    </tr>\n",
       "    <tr>\n",
       "      <th>2</th>\n",
       "      <td>spam</td>\n",
       "      <td>Free entry in 2 a wkly comp to win FA Cup fina...</td>\n",
       "    </tr>\n",
       "    <tr>\n",
       "      <th>3</th>\n",
       "      <td>ham</td>\n",
       "      <td>U dun say so early hor... U c already then say...</td>\n",
       "    </tr>\n",
       "    <tr>\n",
       "      <th>4</th>\n",
       "      <td>ham</td>\n",
       "      <td>Nah I don't think he goes to usf, he lives aro...</td>\n",
       "    </tr>\n",
       "    <tr>\n",
       "      <th>5</th>\n",
       "      <td>spam</td>\n",
       "      <td>FreeMsg Hey there darling it's been 3 week's n...</td>\n",
       "    </tr>\n",
       "  </tbody>\n",
       "</table>\n",
       "</div>"
      ],
      "text/plain": [
       "  Category                                            Message\n",
       "0      ham  Go until jurong point, crazy.. Available only ...\n",
       "1      ham                      Ok lar... Joking wif u oni...\n",
       "2     spam  Free entry in 2 a wkly comp to win FA Cup fina...\n",
       "3      ham  U dun say so early hor... U c already then say...\n",
       "4      ham  Nah I don't think he goes to usf, he lives aro...\n",
       "5     spam  FreeMsg Hey there darling it's been 3 week's n..."
      ]
     },
     "execution_count": 58,
     "metadata": {},
     "output_type": "execute_result"
    }
   ],
   "source": [
    "# Data Collection and Preprocessing\n",
    "# loading dataset\n",
    "raw_mail_data = pd.read_csv('mail_data.csv')\n",
    "raw_mail_data.head(6)"
   ]
  },
  {
   "cell_type": "code",
   "execution_count": 59,
   "id": "b7029570",
   "metadata": {},
   "outputs": [],
   "source": [
    "# Replacing the null values with null strings\n",
    "mail_data= raw_mail_data.where((pd.notnull(raw_mail_data)),'')\n"
   ]
  },
  {
   "cell_type": "code",
   "execution_count": 60,
   "id": "2250bb59",
   "metadata": {},
   "outputs": [
    {
     "data": {
      "text/plain": [
       "(5572, 2)"
      ]
     },
     "execution_count": 60,
     "metadata": {},
     "output_type": "execute_result"
    }
   ],
   "source": [
    "# Checking the number of rows and columns in the dataframe\n",
    "mail_data.shape"
   ]
  },
  {
   "cell_type": "code",
   "execution_count": 61,
   "id": "c2c7d25e",
   "metadata": {},
   "outputs": [
    {
     "name": "stdout",
     "output_type": "stream",
     "text": [
      "0       1\n",
      "1       1\n",
      "2       0\n",
      "3       1\n",
      "4       1\n",
      "       ..\n",
      "5567    0\n",
      "5568    1\n",
      "5569    1\n",
      "5570    1\n",
      "5571    1\n",
      "Name: Category, Length: 5572, dtype: object\n"
     ]
    }
   ],
   "source": [
    "# Label encoding    ----> 1: ham and 0:spam\n",
    "\n",
    "mail_data.loc[mail_data['Category']== 'spam' , 'Category',] = 0\n",
    "mail_data.loc[mail_data['Category'] == 'ham' , 'Category',] = 1\n",
    "\n",
    "# separating data as text and labels\n",
    "X = mail_data['Message']\n",
    "\n",
    "Y=mail_data['Category']\n",
    "\n",
    "#print(X)\n",
    "print(Y)\n",
    "#print(Y)"
   ]
  },
  {
   "cell_type": "code",
   "execution_count": 62,
   "id": "4fd528d9",
   "metadata": {},
   "outputs": [],
   "source": [
    "# Test Train split\n",
    "\n",
    "X_train,X_test,Y_train,Y_test = train_test_split(X,Y, test_size = 0.2 ,random_state=3)\n"
   ]
  },
  {
   "cell_type": "code",
   "execution_count": 63,
   "id": "4f22a9ee",
   "metadata": {},
   "outputs": [],
   "source": [
    "# Feature Extraction\n",
    "# text value to numerical value that can be used as input to LR model (vectorization)\n",
    "feature_extraction = TfidfVectorizer(min_df = 1,stop_words='english',lowercase='True')  #count frequencies of words (stopwords are ignored)\n",
    "# We need to change X_train and X_test to numerical values using feature extraction\n",
    "X_train_features = feature_extraction.fit_transform(X_train) \n",
    "X_test_features = feature_extraction.transform(X_test)      #no fit bcz model should not look at X_test\n",
    "\n",
    "# convert Y_train and Y_test values as integers \n",
    "Y_train=Y_train.astype('int')\n",
    "Y_test=Y_test.astype('int')\n"
   ]
  },
  {
   "cell_type": "code",
   "execution_count": 64,
   "id": "3945cf5d",
   "metadata": {},
   "outputs": [
    {
     "data": {
      "text/plain": [
       "LogisticRegression()"
      ]
     },
     "execution_count": 64,
     "metadata": {},
     "output_type": "execute_result"
    }
   ],
   "source": [
    "# Training the ML model\n",
    "\n",
    "model = LogisticRegression()\n",
    "model.fit(X_train_features,Y_train)\n"
   ]
  },
  {
   "cell_type": "code",
   "execution_count": 67,
   "id": "b5904680",
   "metadata": {},
   "outputs": [
    {
     "name": "stdout",
     "output_type": "stream",
     "text": [
      "Accuracy on training data 0.9670181736594121\n",
      "Accuracy on training data 0.9659192825112107\n"
     ]
    }
   ],
   "source": [
    "# evaluating the trained model\n",
    "prediction_on_training_data = model.predict(X_train_features)\n",
    "accuracy_on_training_dat = accuracy_score(Y_train,prediction_on_training_data)\n",
    "print('Accuracy on training data' , accuracy_on_training_dat)\n",
    "prediction_on_testing_data = model.predict(X_test_features)\n",
    "accuracy_on_testing_dat = accuracy_score(Y_test,prediction_on_testing_data)\n",
    "print('Accuracy on training data' , accuracy_on_testing_dat)    "
   ]
  },
  {
   "cell_type": "code",
   "execution_count": null,
   "id": "edb7db17",
   "metadata": {},
   "outputs": [],
   "source": [
    "# Building a predictive system\n"
   ]
  }
 ],
 "metadata": {
  "kernelspec": {
   "display_name": "Python 3",
   "language": "python",
   "name": "python3"
  },
  "language_info": {
   "codemirror_mode": {
    "name": "ipython",
    "version": 3
   },
   "file_extension": ".py",
   "mimetype": "text/x-python",
   "name": "python",
   "nbconvert_exporter": "python",
   "pygments_lexer": "ipython3",
   "version": "3.8.8"
  }
 },
 "nbformat": 4,
 "nbformat_minor": 5
}
